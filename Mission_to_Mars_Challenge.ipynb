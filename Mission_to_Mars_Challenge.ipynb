{
 "cells": [
  {
   "cell_type": "code",
   "execution_count": null,
   "id": "622b7dbe-f1d8-49f3-90f8-a2db13a7b687",
   "metadata": {},
   "outputs": [],
   "source": [
    "# Import Splinter and BeautifulSoup\n",
    "from splinter import Browser\n",
    "from bs4 import BeautifulSoup as soup\n",
    "from webdriver_manager.chrome import ChromeDriverManager\n",
    "import pandas as pd"
   ]
  },
  {
   "cell_type": "code",
   "execution_count": null,
   "id": "96c086dd-2413-44a4-8da6-0f0e00af96c9",
   "metadata": {
    "tags": []
   },
   "outputs": [],
   "source": [
    "# Set up your path and the URL for scraping.\n",
    "executable_path = {'executable_path': ChromeDriverManager().install()}\n",
    "browser = Browser('chrome', **executable_path, headless=False)"
   ]
  },
  {
   "cell_type": "code",
   "execution_count": null,
   "id": "3fc70d29-d90e-4bb4-993e-5283fd223166",
   "metadata": {},
   "outputs": [],
   "source": [
    "# Visit the mars nasa news site\n",
    "url = 'https://redplanetscience.com'\n",
    "browser.visit(url)\n",
    "\n",
    "# Optional delay for loading the page\n",
    "browser.is_element_present_by_css('div.list_text', wait_time=1)"
   ]
  },
  {
   "cell_type": "code",
   "execution_count": null,
   "id": "b6d5db91-eafb-4d63-b159-ddc00d8b9c11",
   "metadata": {},
   "outputs": [],
   "source": [
    "# Set up HTML parser.\n",
    "html = browser.html\n",
    "news_soup = soup(html, 'html.parser')\n",
    "slide_elem = news_soup.select_one('div.list_text')"
   ]
  },
  {
   "cell_type": "code",
   "execution_count": null,
   "id": "d08c7aeb-f519-469f-952a-6695a2b8d882",
   "metadata": {},
   "outputs": [],
   "source": [
    "slide_elem"
   ]
  },
  {
   "cell_type": "code",
   "execution_count": null,
   "id": "5ec21a60-8ea1-472a-b55a-101cf608a54e",
   "metadata": {},
   "outputs": [],
   "source": [
    "# Begin scraping by looking for content title (title of the article).\n",
    "slide_elem.find('div', class_='content_title')\n",
    "\n"
   ]
  },
  {
   "cell_type": "code",
   "execution_count": null,
   "id": "2607581e-5a15-4517-afd8-df72b3a42d56",
   "metadata": {},
   "outputs": [],
   "source": [
    "# Use the parent element to find the first 'a' tag and save it as the news title.\n",
    "news_title = slide_elem.find('div', class_='content_title').get_text()\n",
    "news_title"
   ]
  },
  {
   "cell_type": "code",
   "execution_count": null,
   "id": "8df1f02c-9342-4892-beb5-1323a4723d21",
   "metadata": {},
   "outputs": [],
   "source": [
    "# Use the parent element to find the paragraph text\n",
    "news_p = slide_elem.find('div', class_='article_teaser_body').get_text()\n",
    "news_p"
   ]
  },
  {
   "cell_type": "markdown",
   "id": "ad0a9959-ed4c-41c5-9f20-c1c11e668ccb",
   "metadata": {},
   "source": [
    "### Featured Images"
   ]
  },
  {
   "cell_type": "code",
   "execution_count": null,
   "id": "3520f1df-135f-47e5-99e2-9324ee7d34bf",
   "metadata": {},
   "outputs": [],
   "source": [
    "# Visit URL\n",
    "url = 'https://spaceimages-mars.com'\n",
    "browser.visit(url)"
   ]
  },
  {
   "cell_type": "code",
   "execution_count": null,
   "id": "b2afeaa2-917b-4543-9463-80f828aefeb2",
   "metadata": {
    "tags": []
   },
   "outputs": [],
   "source": [
    "# Find and click the full size image button.\n",
    "full_image_elem = browser.find_by_tag('button')[1]\n",
    "full_image_elem.click()"
   ]
  },
  {
   "cell_type": "code",
   "execution_count": null,
   "id": "93fd5155-0235-4bf7-97b7-5bc955cfaf5b",
   "metadata": {},
   "outputs": [],
   "source": [
    "# Parse the resulting html with soup.\n",
    "html = browser.html\n",
    "img_soup = soup(html, 'html.parser')"
   ]
  },
  {
   "cell_type": "code",
   "execution_count": null,
   "id": "8e5bb6fa-bbae-433c-b1da-4bcd4a1c21a9",
   "metadata": {},
   "outputs": [],
   "source": [
    "# Find the relative - or latest - image URL\n",
    "img_url_rel = img_soup.find('img', class_='fancybox-image').get('src')\n",
    "img_url_rel"
   ]
  },
  {
   "cell_type": "code",
   "execution_count": null,
   "id": "1718bc2b-fb91-4a1f-9ff9-43de988d403b",
   "metadata": {},
   "outputs": [],
   "source": [
    "# Add the base URL, so that you're able to access the full link.\n",
    "img_url = f'https://spaceimages-mars.com/{img_url_rel}'\n",
    "img_url"
   ]
  },
  {
   "cell_type": "code",
   "execution_count": null,
   "id": "ca00ae59-0375-4318-924b-a9d334e32d10",
   "metadata": {},
   "outputs": [],
   "source": [
    "df = pd.read_html('https://galaxyfacts-mars.com')[0]\n",
    "df.columns=['description', 'Mars', 'Earth']\n",
    "df.set_index('description', inplace=True)\n",
    "df"
   ]
  },
  {
   "cell_type": "code",
   "execution_count": null,
   "id": "7c4f05da-b3cb-4150-b68c-fa990004fdf2",
   "metadata": {
    "tags": []
   },
   "outputs": [],
   "source": [
    "df.to_html()"
   ]
  },
  {
   "cell_type": "code",
   "execution_count": null,
   "id": "2a4980b5-4963-422e-b657-23042f0d97d7",
   "metadata": {},
   "outputs": [],
   "source": []
  },
  {
   "cell_type": "markdown",
   "id": "7f15359b-73e5-44de-9145-04136d38302b",
   "metadata": {},
   "source": [
    "# D1: Scrape High-Resolution Mars’ Hemisphere Images and Titles"
   ]
  },
  {
   "cell_type": "code",
   "execution_count": 243,
   "id": "93079592-115d-4314-99e9-388ab14ebae8",
   "metadata": {
    "tags": []
   },
   "outputs": [],
   "source": [
    "# 1. Use browser to visit the URL\n",
    "url = 'https://marshemispheres.com/'\n",
    "browser.visit(url)\n",
    "\n",
    "# Parse the resulting html with soup.\n",
    "html = browser.html\n",
    "img_soup = soup(html, 'html.parser')\n",
    "slide_elem = img_soup.select_one('div.list_text')"
   ]
  },
  {
   "cell_type": "code",
   "execution_count": 244,
   "id": "eded06a2-09f9-42d3-91d4-29c08f97f09c",
   "metadata": {},
   "outputs": [
    {
     "data": {
      "text/plain": [
       "[]"
      ]
     },
     "execution_count": 244,
     "metadata": {},
     "output_type": "execute_result"
    }
   ],
   "source": [
    "#2. Create a list to hold the images and titles.\n",
    "hemisphere_image_urls = []\n",
    "hemisphere_image_urls"
   ]
  },
  {
   "cell_type": "code",
   "execution_count": 245,
   "id": "5155185f-554f-4120-a92d-460a58fee851",
   "metadata": {
    "tags": []
   },
   "outputs": [],
   "source": [
    "# 3. Write code to retrieve the image urls and titles for each hemisphere.\n",
    "\n",
    "### IMAGE 1 ###\n",
    "\n",
    "# Go to the sub-page for Image 1.\n",
    "url = 'https://marshemispheres.com/'\n",
    "browser.visit(url)\n",
    "full_image_site = browser.find_by_tag('a')[4]\n",
    "full_image_site.click()\n",
    "# Parse the resulting html with soup.\n",
    "html = browser.html\n",
    "img_soup = soup(html, 'html.parser')"
   ]
  },
  {
   "cell_type": "code",
   "execution_count": 246,
   "id": "8baa6562-b191-4377-8817-a3c27c3ab1f3",
   "metadata": {
    "tags": []
   },
   "outputs": [
    {
     "data": {
      "text/plain": [
       "[{'img_url': 'https://marshemispheres.com/images/f5e372a36edfa389625da6d0cc25d905_cerberus_enhanced.tif_full.jpg',\n",
       "  'title': 'Cerberus Hemisphere Enhanced'}]"
      ]
     },
     "execution_count": 246,
     "metadata": {},
     "output_type": "execute_result"
    }
   ],
   "source": [
    "# Scrape the image and title.\n",
    "img1_url_rel = img_soup.find('img', class_='wide-image').get('src')\n",
    "img1_url = f'https://marshemispheres.com/{img1_url_rel}'\n",
    "img1_title = img_soup.body.find('h2').text\n",
    "\n",
    "# Create dictionary\n",
    "hemisphere1 = {'img_url':img1_url, 'title':img1_title}\n",
    "hemisphere_image_urls.append(hemisphere1)\n",
    "hemisphere_image_urls"
   ]
  },
  {
   "cell_type": "code",
   "execution_count": 247,
   "id": "7585978f-8f07-418a-a469-12c29f8868f0",
   "metadata": {},
   "outputs": [],
   "source": [
    "### IMAGE 2 ###\n",
    "\n",
    "# Go to the sub-page for Image 2.\n",
    "url = 'https://marshemispheres.com/'\n",
    "browser.visit(url)\n",
    "full_image_site = browser.find_by_tag('a')[6]\n",
    "full_image_site.click()\n",
    "# Parse the resulting html with soup.\n",
    "html = browser.html\n",
    "img_soup = soup(html, 'html.parser')"
   ]
  },
  {
   "cell_type": "code",
   "execution_count": 248,
   "id": "196e0771-c7ad-418f-9ac9-34796ec39965",
   "metadata": {},
   "outputs": [
    {
     "data": {
      "text/plain": [
       "[{'img_url': 'https://marshemispheres.com/images/f5e372a36edfa389625da6d0cc25d905_cerberus_enhanced.tif_full.jpg',\n",
       "  'title': 'Cerberus Hemisphere Enhanced'},\n",
       " {'img_url': 'https://marshemispheres.com/images/3778f7b43bbbc89d6e3cfabb3613ba93_schiaparelli_enhanced.tif_full.jpg',\n",
       "  'title': 'Schiaparelli Hemisphere Enhanced'}]"
      ]
     },
     "execution_count": 248,
     "metadata": {},
     "output_type": "execute_result"
    }
   ],
   "source": [
    "# Scrape the image and title.\n",
    "img2_url_rel = img_soup.find('img', class_='wide-image').get('src')\n",
    "img2_url = f'https://marshemispheres.com/{img2_url_rel}'\n",
    "img2_title = img_soup.body.find('h2').text\n",
    "\n",
    "# Create dictionary\n",
    "hemisphere2 = {'img_url':img2_url, 'title':img2_title}\n",
    "hemisphere_image_urls.append(hemisphere2)\n",
    "hemisphere_image_urls"
   ]
  },
  {
   "cell_type": "code",
   "execution_count": 249,
   "id": "792176c7-e417-4fe7-b06e-e59fd1f4971b",
   "metadata": {},
   "outputs": [],
   "source": [
    "### IMAGE 3 ###\n",
    "\n",
    "# Go to the sub-page for Image 3.\n",
    "url = 'https://marshemispheres.com/'\n",
    "browser.visit(url)\n",
    "full_image_site = browser.find_by_tag('a')[8]\n",
    "full_image_site.click()\n",
    "# Parse the resulting html with soup.\n",
    "html = browser.html\n",
    "img_soup = soup(html, 'html.parser')"
   ]
  },
  {
   "cell_type": "code",
   "execution_count": 250,
   "id": "718a28c0-0a54-45d5-9345-54034ce2f080",
   "metadata": {},
   "outputs": [
    {
     "data": {
      "text/plain": [
       "[{'img_url': 'https://marshemispheres.com/images/f5e372a36edfa389625da6d0cc25d905_cerberus_enhanced.tif_full.jpg',\n",
       "  'title': 'Cerberus Hemisphere Enhanced'},\n",
       " {'img_url': 'https://marshemispheres.com/images/3778f7b43bbbc89d6e3cfabb3613ba93_schiaparelli_enhanced.tif_full.jpg',\n",
       "  'title': 'Schiaparelli Hemisphere Enhanced'},\n",
       " {'img_url': 'https://marshemispheres.com/images/555e6403a6ddd7ba16ddb0e471cadcf7_syrtis_major_enhanced.tif_full.jpg',\n",
       "  'title': 'Syrtis Major Hemisphere Enhanced'}]"
      ]
     },
     "execution_count": 250,
     "metadata": {},
     "output_type": "execute_result"
    }
   ],
   "source": [
    "# Scrape the image and title.\n",
    "img3_url_rel = img_soup.find('img', class_='wide-image').get('src')\n",
    "img3_url = f'https://marshemispheres.com/{img3_url_rel}'\n",
    "img3_title = img_soup.body.find('h2').text\n",
    "\n",
    "# Create dictionary\n",
    "hemisphere3 = {'img_url':img3_url, 'title':img3_title}\n",
    "hemisphere_image_urls.append(hemisphere3)\n",
    "hemisphere_image_urls"
   ]
  },
  {
   "cell_type": "code",
   "execution_count": 251,
   "id": "fdb41bb4-8ac1-4aeb-a0aa-a2b81f0cf384",
   "metadata": {},
   "outputs": [],
   "source": [
    "### IMAGE 4 ###\n",
    "\n",
    "# Go to the sub-page for Image 4.\n",
    "url = 'https://marshemispheres.com/'\n",
    "browser.visit(url)\n",
    "full_image_site = browser.find_by_tag('a')[10]\n",
    "full_image_site.click()\n",
    "# Parse the resulting html with soup.\n",
    "html = browser.html\n",
    "img_soup = soup(html, 'html.parser')"
   ]
  },
  {
   "cell_type": "code",
   "execution_count": 252,
   "id": "9c8b51c7-fe7b-4961-903e-7be1fbea4094",
   "metadata": {},
   "outputs": [],
   "source": [
    "# Scrape the image and title.\n",
    "img4_url_rel = img_soup.find('img', class_='wide-image').get('src')\n",
    "img4_url = f'https://marshemispheres.com/{img4_url_rel}'\n",
    "img4_title = img_soup.body.find('h2').text\n",
    "\n",
    "# Create dictionary\n",
    "hemisphere4 = {'img_url':img4_url, 'title':img4_title}\n",
    "hemisphere_image_urls.append(hemisphere4)\n",
    "\n",
    "# Add dictionaries to URL list.\n",
    "hemisphere_image_urls = [hemisphere1, hemisphere2, hemisphere3, hemisphere4]"
   ]
  },
  {
   "cell_type": "code",
   "execution_count": 253,
   "id": "a67f3975-a6b8-409d-8473-e1e14741cfe6",
   "metadata": {},
   "outputs": [
    {
     "data": {
      "text/plain": [
       "[{'img_url': 'https://marshemispheres.com/images/f5e372a36edfa389625da6d0cc25d905_cerberus_enhanced.tif_full.jpg',\n",
       "  'title': 'Cerberus Hemisphere Enhanced'},\n",
       " {'img_url': 'https://marshemispheres.com/images/3778f7b43bbbc89d6e3cfabb3613ba93_schiaparelli_enhanced.tif_full.jpg',\n",
       "  'title': 'Schiaparelli Hemisphere Enhanced'},\n",
       " {'img_url': 'https://marshemispheres.com/images/555e6403a6ddd7ba16ddb0e471cadcf7_syrtis_major_enhanced.tif_full.jpg',\n",
       "  'title': 'Syrtis Major Hemisphere Enhanced'},\n",
       " {'img_url': 'https://marshemispheres.com/images/b3c7c6c9138f57b4756be9b9c43e3a48_valles_marineris_enhanced.tif_full.jpg',\n",
       "  'title': 'Valles Marineris Hemisphere Enhanced'}]"
      ]
     },
     "execution_count": 253,
     "metadata": {},
     "output_type": "execute_result"
    }
   ],
   "source": [
    "# 4. Print dictionary items.\n",
    "hemisphere_image_urls"
   ]
  },
  {
   "cell_type": "code",
   "execution_count": 254,
   "id": "a8117fa2-0373-471f-ad67-7e7f9cc58002",
   "metadata": {},
   "outputs": [],
   "source": [
    "# 5. Quit the browser\n",
    "browser.quit()"
   ]
  },
  {
   "cell_type": "code",
   "execution_count": null,
   "id": "29859c7a-58e2-4778-a270-c7c5e5bb6516",
   "metadata": {},
   "outputs": [],
   "source": []
  }
 ],
 "metadata": {
  "kernelspec": {
   "display_name": "PythonData",
   "language": "python",
   "name": "pythondata"
  },
  "language_info": {
   "codemirror_mode": {
    "name": "ipython",
    "version": 3
   },
   "file_extension": ".py",
   "mimetype": "text/x-python",
   "name": "python",
   "nbconvert_exporter": "python",
   "pygments_lexer": "ipython3",
   "version": "3.7.10"
  }
 },
 "nbformat": 4,
 "nbformat_minor": 5
}
